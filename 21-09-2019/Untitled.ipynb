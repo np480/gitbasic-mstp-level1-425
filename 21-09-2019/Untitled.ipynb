{
 "cells": [
  {
   "cell_type": "markdown",
   "metadata": {},
   "source": [
    "#  Day objectives #\n",
    "# markdown  systems #\n",
    "# python basics #\n"
   ]
  },
  {
   "cell_type": "markdown",
   "metadata": {},
   "source": [
    "** check **"
   ]
  },
  {
   "cell_type": "markdown",
   "metadata": {},
   "source": [
    "* text *"
   ]
  },
  {
   "cell_type": "markdown",
   "metadata": {},
   "source": [
    "*** pooji ***"
   ]
  },
  {
   "cell_type": "markdown",
   "metadata": {},
   "source": [
    "* hi *"
   ]
  },
  {
   "cell_type": "markdown",
   "metadata": {},
   "source": [
    "## find python ##"
   ]
  },
  {
   "cell_type": "markdown",
   "metadata": {},
   "source": [
    "# python basics #"
   ]
  },
  {
   "cell_type": "markdown",
   "metadata": {},
   "source": [
    "import sys\n",
    "print(sys.version)"
   ]
  },
  {
   "cell_type": "markdown",
   "metadata": {},
   "source": [
    "print(\"hello world!\")"
   ]
  },
  {
   "cell_type": "code",
   "execution_count": null,
   "metadata": {},
   "outputs": [],
   "source": []
  }
 ],
 "metadata": {
  "kernelspec": {
   "display_name": "Python 3",
   "language": "python",
   "name": "python3"
  },
  "language_info": {
   "codemirror_mode": {
    "name": "ipython",
    "version": 3
   },
   "file_extension": ".py",
   "mimetype": "text/x-python",
   "name": "python",
   "nbconvert_exporter": "python",
   "pygments_lexer": "ipython3",
   "version": "3.7.3"
  }
 },
 "nbformat": 4,
 "nbformat_minor": 2
}
